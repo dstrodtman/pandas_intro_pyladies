{
 "cells": [
  {
   "cell_type": "markdown",
   "metadata": {},
   "source": [
    "# Data Visualization\n",
    "*Author: [Douglas Strodtman](http://linkedin.com/in/dstrodtman/)*\n",
    "\n"
   ]
  },
  {
   "cell_type": "markdown",
   "metadata": {},
   "source": [
    "Today's lesson will focus on visualizations using Pandas, Matplotlib, and Seaborn. By the end of the lesson you will feel empowered to make quick plots to visually explore trends in your data as well as feel comfortable customizing plots to make them ready for professional reports.\n",
    "\n",
    "## Lesson Overview\n",
    "\n",
    "1. Basic Pandas plotting\n",
    "    - histogram\n",
    "    - bar plot\n",
    "    - scatter plot\n",
    "    - line plot\n",
    "1. Seaborn\n",
    "    - heat map\n",
    "    - pair plot\n",
    "    - dist plot\n",
    "    - box plot\n",
    "1. Matplotlib\n",
    "    - basic plotting functionality\n",
    "    - plotting multiple plots to the same axes\n",
    "    - customization\n",
    "\n",
    "This lesson continues to build on the data that we've previously explored. We'll largely be rehasing previous investigations from lessons and labs, but now focusing on representing insights in visual format."
   ]
  },
  {
   "cell_type": "markdown",
   "metadata": {},
   "source": [
    "## Module Import\n",
    "In addition to Pandas, we'll be importing Matplotlib and Seaborn.\n",
    "\n",
    "Note that `pyplot` is a submodule of Matplotlib, and that both of these plotting modules have standard aliases."
   ]
  },
  {
   "cell_type": "code",
   "execution_count": null,
   "metadata": {},
   "outputs": [],
   "source": []
  },
  {
   "cell_type": "markdown",
   "metadata": {},
   "source": [
    "## Data Import\n",
    "Load the data we cleaned in the last lesson."
   ]
  },
  {
   "cell_type": "code",
   "execution_count": null,
   "metadata": {},
   "outputs": [],
   "source": []
  },
  {
   "cell_type": "markdown",
   "metadata": {},
   "source": [
    "And, as always, check that your data loaded as expected."
   ]
  },
  {
   "cell_type": "code",
   "execution_count": null,
   "metadata": {},
   "outputs": [],
   "source": []
  },
  {
   "cell_type": "code",
   "execution_count": null,
   "metadata": {},
   "outputs": [],
   "source": []
  },
  {
   "cell_type": "markdown",
   "metadata": {},
   "source": [
    "## A soapbox on plotting\n",
    "\n",
    "First, you should read [this blog post](https://towardsdatascience.com/storytelling-with-data-a-data-visualization-guide-for-business-professionals-97d50512b407), which gives a brief synopsis of some of the key points presented in [_Storytelling with Data: A Data Visualization Guide for Business Professionals_](https://www.amazon.com/gp/product/1119002257/).\n",
    "\n",
    "Creating good plots isn't easy, but it's worth the time and effort. Here's another fun [post that highlights some of the best and worst visualizations from 2018](https://www.kdnuggets.com/2019/02/best-worst-data-visualization-2018.html).\n",
    "\n",
    "![](https://imgs.xkcd.com/comics/convincing.png)\n",
    "\n",
    "Sometimes we're seeking to just create a quick and dirty visualization to get a snapshot into our data. I think of these as _images_ rather than _plots_. My basic criteria for a visualization to be considered a plot are:\n",
    "\n",
    "1. It has a title.\n",
    "1. Axes are labeled.\n",
    "1. A legend is provided (if more than one color is used).\n",
    "1. The correct _type_ of plot was selected...\n",
    "1. ... to demonstrate a valid relationship.\n",
    "1. Interpretation and context are provided.\n",
    "\n",
    "These are the absolute bare minimum criteria. We should always try to:\n",
    "\n",
    "1. Give consideration to scale.\n",
    "1. Make all text legible for the intended presentation format.\n",
    "1. Eliminate redundant information.\n",
    "1. Where appropriate, order data to aid interpretability.\n",
    "1. Choose colors that are color-blind friendly AND clearly distinguishable.\n",
    "\n",
    "Without going too deep, here are some things to always keep in mind:\n",
    "\n",
    "- Visual literacy, data literacy, technical literacy, and business acumen will vary drastically by audience. Make sure that you choose plotting methods that appropriate to the consumers of your visualizations.\n",
    "- Plots for written reports can be dense, and oftentimes may be provided to allow the audience to visually explore relationships of interest to them. Providing your own commentary on ALL plots will ensure that even if their interests in the data diverge from your own, they can quickly align themselves to why YOU feel the plot is important.\n",
    "- For presentations, your audience should be able to extract the core message from you plot in **3 seconds**. This allows your audience to focus on your stated message, rather than expending mental energy trying to figure out what you're trying to convey. Reducing clutter, using clear colors with high contrast, and formatting text to be visible from every seat in the meeting room are essential.\n",
    "- Colors vary _drastically_ on different monitors, TVs, and projectors. Additionally, colorblindness is fairly common, especially in men of European descent. You should do your best to choose colors that will be easily differentiable regardless of tehnology-based rendering problems or genetic differences."
   ]
  },
  {
   "cell_type": "markdown",
   "metadata": {},
   "source": [
    "## Basic plots with Pandas\n",
    "\n",
    "All that being said, we're going to start off doing some quick and dirty plots with Pandas.\n",
    "\n",
    "#### What's good about Pandas plotting?\n",
    "\n",
    "- It's quick\n",
    "- It's easy\n",
    "- It ~~generally~~ **often** makes smart choices\n",
    "- You can always customize it after (more on this later)\n",
    "\n",
    "#### What's bad about Pandas plotting?\n",
    "\n",
    "- It makes assumptions\n",
    "- Customization can be cumbersome\n",
    "- Generating incorrect plots is easy\n",
    "- Some default settings are **_bad_**"
   ]
  },
  {
   "cell_type": "markdown",
   "metadata": {},
   "source": [
    "### Pandas histogram\n",
    "\n",
    "Histograms are great to show the distribution of a numeric variable in your dataset.\n",
    "\n",
    "Let's look at the distribution of our `total_budget` column."
   ]
  },
  {
   "cell_type": "code",
   "execution_count": null,
   "metadata": {},
   "outputs": [],
   "source": []
  },
  {
   "cell_type": "markdown",
   "metadata": {},
   "source": [
    "This is a bad histogram. We can see that almost all of our values are between 0 and (it looks like) 175k dollars. Let's try using a mask to have a more reasonable histogram."
   ]
  },
  {
   "cell_type": "code",
   "execution_count": null,
   "metadata": {},
   "outputs": [],
   "source": []
  },
  {
   "cell_type": "markdown",
   "metadata": {},
   "source": [
    "We still see a majority of our line items are in our first bin, so less than roughly \\$20k. We'll leave this as is for now."
   ]
  },
  {
   "cell_type": "markdown",
   "metadata": {},
   "source": [
    "### Pandas bar plot\n",
    "\n",
    "Bar plots are a great way to represent numeric data, often when you're most interested in representing the count or total of some value, often grouped by a condition.\n",
    "\n",
    "Let's make a bar plot of our `account_group_name`."
   ]
  },
  {
   "cell_type": "code",
   "execution_count": null,
   "metadata": {},
   "outputs": [],
   "source": []
  },
  {
   "cell_type": "markdown",
   "metadata": {},
   "source": [
    "Even for a quick glimpse into our data, we might prefer to be able to read our group names. It's easy to make a horizontal bar plot instead."
   ]
  },
  {
   "cell_type": "code",
   "execution_count": null,
   "metadata": {},
   "outputs": [],
   "source": []
  },
  {
   "cell_type": "markdown",
   "metadata": {},
   "source": [
    "We can see that most of our entries don't have an `account_group_name` specified. This plot isn't great (how many equipment entries are there?), but we'll move on for now."
   ]
  },
  {
   "cell_type": "markdown",
   "metadata": {},
   "source": [
    "### Pandas scatter plot\n",
    "\n",
    "A scatter plot is useful for demontstrating a relationship *between* two numeric features. Generally, you'll want these to be continuous (think `float`s), although sometimes discrete values (think `int`s) will work.\n",
    "\n",
    "Here, we'll explore the relationship between `total_budget` and `total_expenditures`."
   ]
  },
  {
   "cell_type": "code",
   "execution_count": null,
   "metadata": {},
   "outputs": [],
   "source": []
  },
  {
   "cell_type": "markdown",
   "metadata": {},
   "source": [
    "Note that scatter plots imply that there is a relationship between the two variables being explored, and that many people will want to read them as the `y` variable being dependent on the `x` variable."
   ]
  },
  {
   "cell_type": "markdown",
   "metadata": {},
   "source": [
    "### Pandas line plot\n",
    "\n",
    "A line plot is **only** appropriate when there is a sequential/ordinal relationship between points on your X-axis, such as:\n",
    "- time\n",
    "- qualitative ratings\n",
    "- discrete measurements\n",
    "\n",
    "Things that would be inappropriate on the X axis (these are real things I've seen):\n",
    "- state/country names\n",
    "- zip codes\n",
    "- monotonically increasing ID\n",
    "\n",
    "Unfortunately, we only have two years in our currently loaded dataset. For demonstration purposes, we'll do a simple line graph on the grand total of expenditures each year."
   ]
  },
  {
   "cell_type": "code",
   "execution_count": null,
   "metadata": {},
   "outputs": [],
   "source": []
  },
  {
   "cell_type": "markdown",
   "metadata": {},
   "source": [
    "Definitely not a good plot.\n",
    "\n",
    "We could quickly download and load some [stock data from Yahoo](https://finance.yahoo.com/quote/AAPL/history/) though:"
   ]
  },
  {
   "cell_type": "code",
   "execution_count": null,
   "metadata": {},
   "outputs": [],
   "source": []
  },
  {
   "cell_type": "markdown",
   "metadata": {},
   "source": [
    "## Advanced plots with Seaborn\n",
    "\n",
    "Before proceeding, I want you to note that in the 0.9.0 release, Seaborn added a number of new plotting functions. Many of these are actually the most basic plotting functions, as Seaborn was really designed as a package to provide highly-specialized visualizations difficult to configure in Matplotlib.\n",
    "\n",
    "#### What's good about Seaborn?\n",
    "- Generally great default settings\n",
    "- Provides easy access to difficult plots\n",
    "- A pretty friendly API build to work with Pandas\n",
    "\n",
    "#### What's bad about Seaborn?\n",
    "- Easy to generate overly complicated plots that will crash your kernel\n",
    "- Some plots are inappropriate for certain audiences and/or presentation slides\n",
    "- Technical implementation of some plots prevents further customization (or at least creates a high barrier to access)\n",
    "\n",
    "Here I'll be focusing on a number of plots that I feel Seaborn does exceptionally."
   ]
  },
  {
   "cell_type": "markdown",
   "metadata": {},
   "source": [
    "### Seaborn heat map\n",
    "\n",
    "A heat map applies color to tabular data corresponding to the numbers in each cell. I really like this plot paired with Pandas `.corr` method, which calculates the correlation between variables."
   ]
  },
  {
   "cell_type": "code",
   "execution_count": null,
   "metadata": {},
   "outputs": [],
   "source": []
  },
  {
   "cell_type": "markdown",
   "metadata": {},
   "source": [
    "[Pearson's correlation coefficient](https://en.wikipedia.org/wiki/Pearson_correlation_coefficient) relates to the covariance demonstrated by two variables. Positive values mean that, at the aggregate level, as one variable increases, so does the other. Negative would indicate that values trend in opposite directions."
   ]
  },
  {
   "cell_type": "markdown",
   "metadata": {},
   "source": [
    "### Seaborn pair plot\n",
    "\n",
    "The `pairplot` method can be useful when you want to explore all of the linear relationships between numeric columns."
   ]
  },
  {
   "cell_type": "code",
   "execution_count": null,
   "metadata": {},
   "outputs": [],
   "source": []
  },
  {
   "cell_type": "markdown",
   "metadata": {},
   "source": [
    "The diagonal defaults to be a histogram for the variable. Note that paired with the heatmap above, we can now see which relationships resulted in positive and negative correlations.\n",
    "\n",
    "As you can see, with only 11 numeric fields, this is already almost impossible to interpret. Also, by default our year and the numeric representation of `department` are included."
   ]
  },
  {
   "cell_type": "markdown",
   "metadata": {},
   "source": [
    "### Seaborn dist plot\n",
    "\n",
    "`distplot` can be thought of as basically just a fancy histogram. \n",
    "\n",
    "Note that the line being drawn is the kernal density estimate, analogous to the probability mass/distribution function. This line isn't always appropriate to draw, especially as it can tend to visually represent likelihoods that fall outside of the bounded expectations.\n",
    "\n",
    "From the output of our pair plot above, we can see that we don't really have any great histograms to make. I'm going to use `department` for demonstration purposes."
   ]
  },
  {
   "cell_type": "code",
   "execution_count": null,
   "metadata": {},
   "outputs": [],
   "source": []
  },
  {
   "cell_type": "markdown",
   "metadata": {},
   "source": [
    "Of course, this isn't a good plot, as we have no reason to think that the `department` column represents a meaningful ordinal relationship.\n",
    "\n",
    "I would argue that the kde line would be inappropriate if this were plotting a valid relationship, as it suggests discrepancies between discrete bins may actually be smoother than they are."
   ]
  },
  {
   "cell_type": "markdown",
   "metadata": {},
   "source": [
    "### Seaborn box plots\n",
    "\n",
    "Box plots are a great way to visually communicate central tendency and spread for discretely-binned numeric data.\n",
    "\n",
    "Here, we'll look at the spread of total expenditures on salaries year-to-year."
   ]
  },
  {
   "cell_type": "code",
   "execution_count": null,
   "metadata": {},
   "outputs": [],
   "source": []
  },
  {
   "cell_type": "markdown",
   "metadata": {},
   "source": [
    "### Seaborn dog plot\n",
    "\n",
    "Make sure you shift-tab to read the doc string."
   ]
  },
  {
   "cell_type": "code",
   "execution_count": null,
   "metadata": {},
   "outputs": [],
   "source": []
  },
  {
   "cell_type": "markdown",
   "metadata": {},
   "source": [
    "## Matplotlib Plotting\n",
    "\n",
    "Now we're going to build out a single plot to visualize a question from our lab:\n",
    "\n",
    "**Which department had the most line item entries each year?**\n",
    "\n",
    "We'll start by creating a pivot table, getting rid of any nulls values (due to now have entries for a given year), and sorting our counts by their values in 2017."
   ]
  },
  {
   "cell_type": "code",
   "execution_count": null,
   "metadata": {},
   "outputs": [],
   "source": [
    "dept_by_year = df.pivot_table(values='fund_name', index='department_name', columns='budget_fiscal_year', aggfunc='count')\n",
    "dept_by_year.fillna(0, inplace=True)\n",
    "dept_by_year.sort_values(2017, inplace=True)"
   ]
  },
  {
   "cell_type": "markdown",
   "metadata": {},
   "source": [
    "We will now iteratively build up a plot in matplotlib, doing the following:\n",
    "\n",
    "- Creating a single bar plot from a Series\n",
    "- Adding a second bar plot\n",
    "- Changing the figure size\n",
    "- Adjusting the width of bars\n",
    "- Adjusting the alignment of bars\n",
    "- Setting the x and y labels\n",
    "- Setting the title\n",
    "- Creating a legend\n",
    "- Getting the current axis\n",
    "- Rotating x ticks\n",
    "- Aligning x ticks\n",
    "- Changing all font sizes\n",
    "- Saving figure\n",
    "\n",
    "Let's get started."
   ]
  },
  {
   "cell_type": "code",
   "execution_count": null,
   "metadata": {},
   "outputs": [],
   "source": []
  }
 ],
 "metadata": {
  "kernelspec": {
   "display_name": "Python 3",
   "language": "python",
   "name": "python3"
  },
  "language_info": {
   "codemirror_mode": {
    "name": "ipython",
    "version": 3
   },
   "file_extension": ".py",
   "mimetype": "text/x-python",
   "name": "python",
   "nbconvert_exporter": "python",
   "pygments_lexer": "ipython3",
   "version": "3.6.8"
  }
 },
 "nbformat": 4,
 "nbformat_minor": 2
}
